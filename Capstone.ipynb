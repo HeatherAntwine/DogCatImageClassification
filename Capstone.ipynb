{
 "cells": [
  {
   "cell_type": "code",
   "execution_count": null,
   "metadata": {},
   "outputs": [],
   "source": [
    "# Author - Heather R Antwine\n",
    "# C964 Computer Science Capstone\n",
    "# Western Governors University"
   ]
  },
  {
   "cell_type": "code",
   "execution_count": null,
   "metadata": {
    "scrolled": false
   },
   "outputs": [],
   "source": [
    "import cv2\n",
    "import tflearn\n",
    "import numpy as np\n",
    "import os\n",
    "from random import shuffle\n",
    "from tqdm import tqdm\n",
    "from tflearn.layers.conv import conv_2d, max_pool_2d\n",
    "from tflearn.layers.core import input_data, dropout, fully_connected\n",
    "from tflearn.layers.estimator import regression\n",
    "\n",
    "#Set up the directories for training and validation datas\n",
    "train_dir = 'dataset_dogs_vs_cats/train'\n",
    "validation_dir = 'dataset_dogs_vs_cats/validation'\n",
    "\n",
    "#The directory for TensorBoard logs\n",
    "#tb_dir = 'log'\n",
    "\n",
    "# The larger the image size, the slower the training. \n",
    "#Clean up the data some by making the images consistent AND small. Change this to see how the network learns\n",
    "img_size = 50\n",
    "\n",
    "#Change the learn_rate and dropout_rate to significantly affect the accuracy of the network\n",
    "learn_rate = 0.001\n",
    "dropout_rate = 0.8\n",
    "\n",
    "#Build the model name based on the variables of learn_rate, dropout_rate, and convolution count to make it easy\n",
    "model_name = 'dogsvscats-{}-{}-{}.model'.format(dropout_rate, learn_rate, '8conv-basic-video')\n",
    "\n",
    "# Some Warnings regarding deprecation will be shown: this can be ignored as it does not affect the functionality at all"
   ]
  },
  {
   "cell_type": "code",
   "execution_count": null,
   "metadata": {
    "scrolled": true
   },
   "outputs": [],
   "source": [
    "#Setup the labelling to help determine if cat or dog\n",
    "def label_img(img):\n",
    "    word_label = img.split('.')[-3]\n",
    "    if word_label == 'cat': return[1,0]\n",
    "    elif word_label == 'dog': return[0,1]\n",
    "    "
   ]
  },
  {
   "cell_type": "code",
   "execution_count": null,
   "metadata": {
    "scrolled": true
   },
   "outputs": [],
   "source": [
    "#Build the array for training data\n",
    "def create_training_data():\n",
    "    training_data = []\n",
    "    for img in tqdm(os.listdir(train_dir)):\n",
    "        label = label_img(img)\n",
    "        path = os.path.join(train_dir,img)\n",
    "        img = cv2.resize(cv2.imread(path, cv2.IMREAD_GRAYSCALE), (img_size,img_size))\n",
    "        training_data.append([np.array(img),np.array(label)])\n",
    "    shuffle(training_data)\n",
    "    np.save('trained_data.npy', training_data)\n",
    "    return training_data"
   ]
  },
  {
   "cell_type": "code",
   "execution_count": null,
   "metadata": {
    "scrolled": true
   },
   "outputs": [],
   "source": [
    "#Build the array WITH data cleaning for testing data\n",
    "def process_test_data():\n",
    "    testing_data = []\n",
    "    for img in tqdm(os.listdir(validation_dir)):\n",
    "        path = os.path.join(validation_dir,img)\n",
    "        img_num = img.split('.')[0]\n",
    "        img = cv2.resize(cv2.imread(path, cv2.IMREAD_GRAYSCALE), (img_size, img_size))\n",
    "        testing_data.append([np.array(img),img_num])\n",
    "    np.save('test_data.npy', testing_data)\n",
    "    return testing_data"
   ]
  },
  {
   "cell_type": "code",
   "execution_count": null,
   "metadata": {
    "scrolled": true
   },
   "outputs": [],
   "source": [
    "#Assign the variable for trained_data equal to the array by running the module for create_training_data\n",
    "trained_data = create_training_data()"
   ]
  },
  {
   "cell_type": "code",
   "execution_count": null,
   "metadata": {
    "scrolled": false
   },
   "outputs": [],
   "source": [
    "# Here is our convolutional neural network that takes in the variables of image size defined in the first cell of code\n",
    "# Change the number of convolutions to see how the network learns.\n",
    "convnet = input_data(shape=[None, img_size, img_size, 1], name='input')\n",
    "\n",
    "convnet = conv_2d(convnet, 32, 5, activation='relu')\n",
    "convnet = max_pool_2d(convnet, 5)\n",
    "\n",
    "convnet = conv_2d(convnet, 64, 5, activation='relu')\n",
    "convnet = max_pool_2d(convnet, 5)\n",
    "\n",
    "convnet = conv_2d(convnet, 32, 5, activation='relu')\n",
    "convnet = max_pool_2d(convnet, 5)\n",
    "\n",
    "convnet = conv_2d(convnet, 64, 5, activation='relu')\n",
    "convnet = max_pool_2d(convnet, 5)\n",
    "\n",
    "convnet = conv_2d(convnet, 32, 5, activation='relu')\n",
    "convnet = max_pool_2d(convnet, 5)\n",
    "\n",
    "convnet = conv_2d(convnet, 64, 5, activation='relu')\n",
    "convnet = max_pool_2d(convnet, 5)\n",
    "\n",
    "convnet = conv_2d(convnet, 32, 5, activation='relu')\n",
    "convnet = max_pool_2d(convnet, 5)\n",
    "\n",
    "convnet = conv_2d(convnet, 64, 5, activation='relu')\n",
    "convnet = max_pool_2d(convnet, 5)\n",
    "\n",
    "# convnet = conv_2d(convnet, 32, 5, activation='relu')\n",
    "# convnet = max_pool_2d(convnet, 5)\n",
    "\n",
    "# convnet = conv_2d(convnet, 64, 5, activation='relu')\n",
    "# convnet = max_pool_2d(convnet, 5)\n",
    "\n",
    "convnet = fully_connected(convnet, 1024, activation='relu')\n",
    "convnet = dropout(convnet, dropout_rate)\n",
    "\n",
    "convnet = fully_connected(convnet, 2, activation='softmax')\n",
    "#Adam optimizer chosen but there are many other choices - change this to see how the network learns\n",
    "#Categorical Cross Entropy chosen instead of Binary Cross Entropy - good to change to learn how the network learns\n",
    "convnet = regression(convnet, optimizer='adam', learning_rate=learn_rate, loss='categorical_crossentropy', name='targets')\n",
    "\n",
    "#Let's store the results into our tensorboard directory.\n",
    "model = tflearn.DNN(convnet, tensorboard_dir='log')"
   ]
  },
  {
   "cell_type": "code",
   "execution_count": null,
   "metadata": {
    "scrolled": true
   },
   "outputs": [],
   "source": [
    "#check to see if the path already exists for the model and, if so, load it up\n",
    "if os.path.exists('{}.meta'.format(model_name)):\n",
    "    model.load(model_name)"
   ]
  },
  {
   "cell_type": "code",
   "execution_count": null,
   "metadata": {
    "scrolled": true
   },
   "outputs": [],
   "source": [
    "#Let's use all but the last 1000 images for training the the network and the last 1000 images for validating the accuracy.\n",
    "train = trained_data[:-1000]\n",
    "test = trained_data[-1000:]"
   ]
  },
  {
   "cell_type": "code",
   "execution_count": null,
   "metadata": {
    "scrolled": true
   },
   "outputs": [],
   "source": [
    "# Building the arrays with reshaped images.\n",
    "X = np.array([i[0] for i in train]).reshape(-1, img_size, img_size, 1)\n",
    "Y = [i[1] for i in train]\n",
    "\n",
    "test_x = np.array([i[0] for i in test]).reshape(-1, img_size, img_size, 1)\n",
    "test_y = [i[1] for i in test]"
   ]
  },
  {
   "cell_type": "code",
   "execution_count": null,
   "metadata": {
    "scrolled": true
   },
   "outputs": [],
   "source": [
    "#Here's where we will run the model we created. Change n_epoch for \n",
    "model.fit({'input': X}, {'targets': Y}, n_epoch=3, validation_set=({'input': test_x}, {'targets': test_y}), \n",
    "    snapshot_step=500, show_metric=True, run_id=model_name)"
   ]
  },
  {
   "cell_type": "code",
   "execution_count": null,
   "metadata": {
    "scrolled": false
   },
   "outputs": [],
   "source": [
    "#Save the model name\n",
    "model.save(model_name)"
   ]
  },
  {
   "cell_type": "code",
   "execution_count": null,
   "metadata": {
    "scrolled": true
   },
   "outputs": [],
   "source": [
    "# Let's run a prediction for 12 images in the validation data and show them 50x50 and grayscale - just as we tested.\n",
    "import matplotlib.pyplot as plt\n",
    "\n",
    "test_data = process_test_data()\n",
    "# test_data = np.load('test_data.npy')\n",
    "\n",
    "%matplotlib inline\n",
    "fig = plt.figure()\n",
    "\n",
    "for num, data in enumerate(test_data[:12]):\n",
    "    \n",
    "    img_num = data[1]\n",
    "    img_data = data[0]\n",
    "    \n",
    "    y = fig.add_subplot(3,4,num+1)\n",
    "    orig = img_data\n",
    "    data = img_data.reshape(img_size,img_size,1)\n",
    "    \n",
    "    model_out = model.predict([data])[0]\n",
    "    \n",
    "    if np.argmax(model_out) == 1: str_label='Dog'\n",
    "    else: str_label='Cat'\n",
    "    \n",
    "    y.imshow(orig, cmap='gray')\n",
    "    plt.title(str_label)\n",
    "plt.show()"
   ]
  }
 ],
 "metadata": {
  "kernelspec": {
   "display_name": "Python 3",
   "language": "python",
   "name": "python3"
  },
  "language_info": {
   "codemirror_mode": {
    "name": "ipython",
    "version": 3
   },
   "file_extension": ".py",
   "mimetype": "text/x-python",
   "name": "python",
   "nbconvert_exporter": "python",
   "pygments_lexer": "ipython3",
   "version": "3.7.7"
  }
 },
 "nbformat": 4,
 "nbformat_minor": 4
}
